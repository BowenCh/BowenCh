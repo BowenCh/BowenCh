{
 "cells": [
  {
   "cell_type": "code",
   "execution_count": null,
   "metadata": {},
   "outputs": [],
   "source": [
    "import pandas as pd\n",
    "import gc\n",
    "import numpy as np\n",
    "import os"
   ]
  },
  {
   "cell_type": "code",
   "execution_count": null,
   "metadata": {},
   "outputs": [],
   "source": [
    "import os\n",
    "import subprocess\n",
    "\n",
    "#path = '/media/mica225/Seagate Desktop Drive/rap weather data/Aug_Sep'\n",
    "path = '/home/songlab/Documents/Kai/TIST2020/weather/datasample'\n",
    "lst = os.listdir(path)\n",
    "\n",
    "for c in lst:\n",
    "    if c.endswith('001.grb2'):\n",
    "        name = c[:-4] + 'csv'\n",
    "        print('processing %s' % c)\n",
    "        command = 'wgrib2 ' + c + ' -undefine out-box -90.0:-77.0 24.0:31.0 -csv ' + 'csv/' + name\n",
    "        #subprocess.call(command, shell=True)\n",
    "        os.system(command)\n",
    "        print('done file %s' % name)\n",
    "        #os.system()\n"
   ]
  },
  {
   "cell_type": "code",
   "execution_count": null,
   "metadata": {},
   "outputs": [],
   "source": [
    "import os\n",
    "import subprocess\n",
    "\n",
    "#path = '/media/mica225/Seagate Desktop Drive/rap weather data/Aug_Sep'\n",
    "path = '/home/songlab/Documents/Kai/TIST2020/weather/datasample'\n",
    "lst = os.listdir(path)\n",
    "\n",
    "for c in lst:\n",
    "    if c.endswith('001.grb2'):\n",
    "        print(c)\n"
   ]
  },
  {
   "cell_type": "code",
   "execution_count": null,
   "metadata": {},
   "outputs": [],
   "source": [
    "import os\n",
    "import subprocess\n",
    "\n",
    "#path = '/media/mica225/Seagate Desktop Drive/rap weather data/Aug_Sep'\n",
    "path = '/media/songlab/Seagate Desktop Drive/rap_weather_data'\n",
    "lst = os.listdir(path)\n",
    "\n",
    "for c in lst:\n",
    "    if c.endswith('.grb2'):\n",
    "        name = c[:-4] + 'csv'\n",
    "        command = 'wgrib2 ' + c + ' -undefine out-box -90.0:-77.0 24.0:31.0 -csv ' + 'csv/' + name\n",
    "        print(command)\n",
    "    "
   ]
  },
  {
   "cell_type": "code",
   "execution_count": null,
   "metadata": {},
   "outputs": [],
   "source": [
    "import csv\n",
    "read_file = pd.read_csv('/home/songlab/Documents/Kai/TIST2020/weather/rapfiles/hello.txt')\n",
    "file_path = '/home/songlab/Documents/Kai/TIST2020/weather/rapfiles/hello.csv'\n",
    "with open(file_path,'w') as f:\n",
    "    writer = csv.writer(f)\n",
    "    for line in read_file:\n",
    "        writer.writerow(line)\n",
    "        print(line)"
   ]
  },
  {
   "cell_type": "code",
   "execution_count": null,
   "metadata": {},
   "outputs": [],
   "source": [
    "f = pd.read_csv('/home/songlab/Documents/Kai/TIST2020/weather/rapfiles/hello.csv')\n",
    "f.iloc[:,[3]] = f.iloc[:,[3]] + 99\n",
    "f"
   ]
  },
  {
   "cell_type": "code",
   "execution_count": null,
   "metadata": {},
   "outputs": [],
   "source": [
    "file_path"
   ]
  },
  {
   "cell_type": "code",
   "execution_count": null,
   "metadata": {},
   "outputs": [],
   "source": [
    "data =pd.read_csv('rap_130_20190801_0100_001.csv')\n",
    "#gc.collect()"
   ]
  },
  {
   "cell_type": "code",
   "execution_count": null,
   "metadata": {},
   "outputs": [],
   "source": [
    "data =pd.read_csv(\"rap_130_20190801_0100_001.csv\", names = ['time_start','time_end','field','level','longitude','latitude','grid_value'])"
   ]
  },
  {
   "cell_type": "code",
   "execution_count": null,
   "metadata": {},
   "outputs": [],
   "source": [
    "data.iloc[:,[4,5]].drop_duplicates()"
   ]
  },
  {
   "cell_type": "code",
   "execution_count": null,
   "metadata": {},
   "outputs": [],
   "source": [
    "time_start = np.array(data.iloc[:,[0]].drop_duplicates().values.tolist()).reshape(-1)\n",
    "time_end = np.array(data.iloc[:,[1]].drop_duplicates().values.tolist()).reshape(-1)\n",
    "field = np.array(data.iloc[:,[2]].drop_duplicates().values.tolist()).reshape(-1)\n",
    "level = np.array(data.iloc[:,[3]].drop_duplicates().values.tolist()).reshape(-1)\n",
    "lon_lat = np.array(data.iloc[:,[4,5]].drop_duplicates().values.tolist())\n",
    "grid_value = np.array(data.iloc[:,[6]].drop_duplicates().values.tolist()).reshape(-1)"
   ]
  },
  {
   "cell_type": "code",
   "execution_count": null,
   "metadata": {},
   "outputs": [],
   "source": [
    "#print('time_start =', time_start)\n",
    "#print('time_end =', time_end)\n",
    "#print('field =', field)\n",
    "#print('level = ', level)\n",
    "print('lon_lat =' , lon_lat)\n",
    "#print('grid_value = ', grid_value)"
   ]
  },
  {
   "cell_type": "code",
   "execution_count": null,
   "metadata": {},
   "outputs": [],
   "source": [
    "data[data.level == '1000 mb'].field.drop_duplicates()\n"
   ]
  },
  {
   "cell_type": "code",
   "execution_count": null,
   "metadata": {},
   "outputs": [],
   "source": [
    "data[data.level == '2 m above ground'].field.drop_duplicates()"
   ]
  },
  {
   "cell_type": "code",
   "execution_count": null,
   "metadata": {},
   "outputs": [],
   "source": [
    "len(level)\n",
    "level"
   ]
  },
  {
   "cell_type": "code",
   "execution_count": null,
   "metadata": {},
   "outputs": [],
   "source": [
    "lon_lat\n",
    "data.query('longitude == @lon_lat[0][0]  & latitude == @lon_lat[0][1]')# query specific longitude&latitude"
   ]
  },
  {
   "cell_type": "markdown",
   "metadata": {},
   "source": [
    "field: https://www.nco.ncep.noaa.gov/pmb/docs/on388/table2.html\n",
    "'REFC':Maximum/Composite radar reflectivity\n",
    "'VIS':Visibility\n",
    "'REFD':Derived radar reflectivity\t\n",
    "'HGT':Geopotential height\t\n",
    "'GUST':Surface wind gust\t\n",
    "'RETOP':Radar Echo Top (18.3 DBZ)\n",
    "'TMP':Temperature\n",
    "'RH':Relative humidity\n",
    "'VVEL':Vertical velocity (pressure)\n",
    "'UGRD':u-component of wind \n",
    "'VGRD':v-component of wind\n",
    "'ABSV':Absolute vorticity\n",
    "'HINDEX':Haines Index\n",
    "'MSLMA':Mean Sea Level Pressure (MAPS System Rece\",-80.4513,26.1908,0\n",
    "\"2019-08-01 00:00:00\",\"2019-08-01 01:00:00\",\"SNOD\",\"surface\"duction)\n",
    "'PRES':Pressure, \n",
    "'ASNOW':Frozen precipitation (e.g. snowfall)\n",
    "'MSTAV':Moisture availabilitymstav\n",
    "'WEASD':Water equiv. of accum. snow depth\n",
    "'SNOD':Snow depth\n",
    "'POT':Potential temperature\n",
    "'SPFH':\tSpecific humidity\n",
    "'DPT':Dew point temperature\n",
    "'DEPR':Dew point depression (or deficit)\n",
    "'EPOT':Pseudo-adiabatic potential temperature or equivalent potential temperature\n",
    "'PRATE':Precipitation rate\n",
    "'APCP':Total precipitation\n",
    "'ACPCP':Convective precipitation\n",
    "'FROZR':Frozen Rain\n",
    "'FRZR':Freezing Rain\n",
    "'SSRUN':Storm surface runoff\n",
    "'BGRUN':Baseflow-groundwater runoff\n",
    "'CSNOW':Categorical snow (yes=1; no=0)rap_130_20190801_0000_001\n",
    "'CICEP':Categorical ice pellets (yes=1; no=0)\n",
    "'CFRZR':Categorical freezing rain (yes=1; no=0)\n",
    "'CRAIN':Categorical rain (yes=1; no=0)\n",
    "'LFTX':Surface lifted index\n",
    "'CAPE':Convective Available Potential Energy\n",
    "'CIN':Convective inhibition\n",
    "'PWAT':Precipitable water\n",
    "'LCDC':Low cloud cover\n",
    "'MCDC':Medium cloud cover\n",
    "'HCDC';High cloud cover\n",
    "'TCDC':Total cloud cover\n",
    "'HLCY';Storm relative helicity\n",
    "'USTM':u-component of storm motion\n",
    "'VSTM':v-component of storm motion\n",
    "'VUCSH':Vertical u-component shear\n",
    "'VVCSH':Vertical v-component shear\n",
    "'4LFTX':Best (4 layer) lifted index\n",
    "'HPBL':Planetary boundary layer height\n",
    "'PLPL':Pressure of level from which parcel was lifted\n",
    "'LTNG':Lightningrap_130_20190801_0000_001\n",
    "'RHPW':Relative Humidity with Respect to Precipitable Water\n",
    "'SBT123':Simulated Brightness Temperature for GOES12, Channel 3\n",
    "'SBT124':Simulated Brightness Temperature for GOES12, Channel 4\n",
    "'SBT113':Simulated Brightness Temperature for GOES11, Channel 3\t\n",
    "'SBT114':Simulated Brightness Temperature for GOES11, Channel 4"
   ]
  },
  {
   "cell_type": "code",
   "execution_count": null,
   "metadata": {},
   "outputs": [],
   "source": [
    "data.head(10).query('longitude == -126.13799999999999')"
   ]
  },
  {
   "cell_type": "code",
   "execution_count": null,
   "metadata": {},
   "outputs": [],
   "source": [
    "data_sorted = data.sort_values(by = ['longitude','latitude','level','field'],ascending = True)"
   ]
  },
  {
   "cell_type": "code",
   "execution_count": null,
   "metadata": {},
   "outputs": [],
   "source": [
    "data_sorted.head(50)"
   ]
  },
  {
   "cell_type": "code",
   "execution_count": null,
   "metadata": {},
   "outputs": [],
   "source": [
    "data_sorted.head(50).sort_values(by = ['level'],kind ='mergesort')"
   ]
  },
  {
   "cell_type": "code",
   "execution_count": null,
   "metadata": {},
   "outputs": [],
   "source": [
    "path = '/home/songlab/Documents/Kai/TIST2020/weather/rapfiles'\n",
    "files = os.listdir(path)\n",
    "for i in files:\n",
    "    os.system('wgrib2 i.grb2 -csv i.csv')"
   ]
  },
  {
   "cell_type": "code",
   "execution_count": null,
   "metadata": {},
   "outputs": [],
   "source": [
    "os.system(\"wgrib2 rap_130_20190801_0000_001.grb2 -csv rap_130_20190801_0000_001.csv\")"
   ]
  },
  {
   "cell_type": "code",
   "execution_count": null,
   "metadata": {},
   "outputs": [],
   "source": [
    "os.popen(\"wgrib2 rap_130_20190801_0000_001.grb2 -csv rap_130_20190801_0000_001.csv\")"
   ]
  },
  {
   "cell_type": "code",
   "execution_count": null,
   "metadata": {},
   "outputs": [],
   "source": [
    "i"
   ]
  },
  {
   "cell_type": "code",
   "execution_count": null,
   "metadata": {},
   "outputs": [],
   "source": [
    "import os\n",
    "import subprocess\n",
    "path = '/home/songlab/Documents/Kai/TIST2020/weather/rapfiles'\n",
    "lst = os.listdir(path)"
   ]
  },
  {
   "cell_type": "code",
   "execution_count": null,
   "metadata": {},
   "outputs": [],
   "source": [
    "for c in lst:\n",
    "    if c.endswith('.grb2'):\n",
    "        name = c[:-4] + 'csv'\n",
    "        print('processing %s' % c)\n",
    "        command = 'wgrib2 ' + c + ' -csv ' + name\n",
    "        #subprocess.call(command, shell=True)\n",
    "        os.system(command)\n",
    "        print('done file %s' % name)\n",
    "        #os.system()"
   ]
  },
  {
   "cell_type": "code",
   "execution_count": null,
   "metadata": {},
   "outputs": [],
   "source": [
    "command"
   ]
  },
  {
   "cell_type": "code",
   "execution_count": null,
   "metadata": {},
   "outputs": [],
   "source": [
    "command = \"Hello World!\"\n",
    "subprocess.check_output([\"wgrib2\", command])"
   ]
  },
  {
   "cell_type": "code",
   "execution_count": null,
   "metadata": {},
   "outputs": [],
   "source": [
    "for c in lst:\n",
    "    print(c)"
   ]
  },
  {
   "cell_type": "code",
   "execution_count": null,
   "metadata": {},
   "outputs": [],
   "source": [
    "import subprocess\n",
    "subprocess.run(['ls', '-l'])"
   ]
  },
  {
   "cell_type": "code",
   "execution_count": null,
   "metadata": {},
   "outputs": [],
   "source": [
    "import os\n",
    "import subprocess\n",
    "path = '/home/songlab/Documents/Kai/TIST2020/weather'\n",
    "lst = os.listdir(path)\n",
    "\n",
    "for c in lst:\n",
    "    if c.endswith('.grb2'):\n",
    "        name = c[:-4] + 'csv'\n",
    "        print('processing %s' % c)\n",
    "        command = 'wgrib2 ' + c + ' -csv ' + name\n",
    "        #subprocess.call(command, shell=True)\n",
    "        os.system(command)\n",
    "        print('done file %s' % name)\n",
    "        #os.system()"
   ]
  },
  {
   "cell_type": "code",
   "execution_count": null,
   "metadata": {},
   "outputs": [],
   "source": [
    "cvsfiles_path = path + '/cvsfiles'\n",
    "cvsfiles_path"
   ]
  },
  {
   "cell_type": "code",
   "execution_count": null,
   "metadata": {},
   "outputs": [],
   "source": [
    "#write .csv files into a specific file\n",
    "command = 'wgrib2 ' + 'rap_130_20190801_0000_000.grb2' + ' -csv ' + 'csv/rap_130_20190801_0000_000.csv'\n",
    "#os.system(command)\n",
    "command"
   ]
  },
  {
   "cell_type": "code",
   "execution_count": null,
   "metadata": {},
   "outputs": [],
   "source": [
    "import os\n",
    "#specify the longitude and latitude range\n",
    "command = 'wgrib2 rap_130_20190801_0100_000.grb2 -undefine out-box -84.0:-80.0 24.0:30.0 -csv  rap_130_20190801_0100_000.csv'\n",
    "os.system(command)"
   ]
  },
  {
   "cell_type": "code",
   "execution_count": null,
   "metadata": {},
   "outputs": [],
   "source": [
    "'wgrib2 ' + c + ' -csv ' + path + '/' +name\n"
   ]
  },
  {
   "cell_type": "markdown",
   "metadata": {},
   "source": [
    "# Cleaning Weather data"
   ]
  },
  {
   "cell_type": "code",
   "execution_count": 111,
   "metadata": {},
   "outputs": [],
   "source": [
    "import pandas as pd\n",
    "import numpy as np"
   ]
  },
  {
   "cell_type": "code",
   "execution_count": 112,
   "metadata": {},
   "outputs": [],
   "source": [
    "data = pd.read_csv('/home/songlab/Documents/Kai/TIST2020/weather/csv001samples/rap_130_20190801_0100_001.csv', names = ['Time_Start','Time_End','Field','Level','Longitude','Latitude','Grid_Value'])"
   ]
  },
  {
   "cell_type": "code",
   "execution_count": 113,
   "metadata": {},
   "outputs": [],
   "source": [
    "data['Date'] = data['Time_Start'].apply(lambda x: x[0:4] + x[5:7] + x[8:10])"
   ]
  },
  {
   "cell_type": "code",
   "execution_count": 114,
   "metadata": {},
   "outputs": [],
   "source": [
    "data['Time'] = data['Time_Start'].apply(lambda x: x[11:13] + x[14:16] + x[17:19])"
   ]
  },
  {
   "cell_type": "code",
   "execution_count": 115,
   "metadata": {},
   "outputs": [],
   "source": [
    "data = data.drop(columns=['Time_Start'])\n",
    "data = data.drop(columns=['Time_End'])"
   ]
  },
  {
   "cell_type": "code",
   "execution_count": 116,
   "metadata": {},
   "outputs": [],
   "source": [
    "data = data.reindex(columns = ['Date','Time','Field','Level','Longitude','Latitude','Grid_Value'])"
   ]
  },
  {
   "cell_type": "code",
   "execution_count": 117,
   "metadata": {},
   "outputs": [],
   "source": [
    "keep_level =['100 mb','125 mb', '150 mb', '175 mb', '200 mb', '225 mb', '250 mb',\n",
    "             '275 mb', '300 mb', '325 mb', '350 mb', '375 mb', '400 mb',\n",
    "             '425 mb', '450 mb', '475 mb', '500 mb', '525 mb', '550 mb',\n",
    "             '575 mb', '600 mb', '625 mb', '650 mb', '675 mb', '700 mb',\n",
    "             '725 mb', '750 mb', '775 mb', '800 mb', '825 mb', '850 mb',\n",
    "             '875 mb', '900 mb', '925 mb', '950 mb', '975 mb', '1000 mb']\n",
    "data = data[data['Level'].isin(keep_level)]"
   ]
  },
  {
   "cell_type": "markdown",
   "metadata": {},
   "source": []
  },
  {
   "cell_type": "code",
   "execution_count": 118,
   "metadata": {},
   "outputs": [],
   "source": [
    "#level = np.array(data.iloc[:,[3]].drop_duplicates().values.tolist()).reshape(-1)\n",
    "#level"
   ]
  },
  {
   "cell_type": "code",
   "execution_count": 119,
   "metadata": {},
   "outputs": [],
   "source": [
    "data.to_csv('/home/songlab/Documents/Kai/TIST2020/weather/csv001samples/rap_130_201908011.csv',index=False)\n",
    "#data.to_csv(sys.stdout,index=False)"
   ]
  },
  {
   "cell_type": "code",
   "execution_count": null,
   "metadata": {},
   "outputs": [],
   "source": []
  }
 ],
 "metadata": {
  "kernelspec": {
   "display_name": "Python 3",
   "language": "python",
   "name": "python3"
  },
  "language_info": {
   "codemirror_mode": {
    "name": "ipython",
    "version": 3
   },
   "file_extension": ".py",
   "mimetype": "text/x-python",
   "name": "python",
   "nbconvert_exporter": "python",
   "pygments_lexer": "ipython3",
   "version": "3.6.9"
  }
 },
 "nbformat": 4,
 "nbformat_minor": 4
}
